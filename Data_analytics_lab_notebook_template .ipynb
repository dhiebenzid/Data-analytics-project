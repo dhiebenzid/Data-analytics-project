{
  "cells": [
    {
      "cell_type": "code",
      "execution_count": 1,
      "metadata": {
        "id": "fa33fidODTSm"
      },
      "outputs": [],
      "source": [
        "#Please Replace all teh placeholders {} with your details"
      ]
    },
    {
      "cell_type": "markdown",
      "metadata": {
        "id": "vLmQa9SrDE--"
      },
      "source": [
        "# {Project_title}"
      ]
    },
    {
      "cell_type": "markdown",
      "metadata": {
        "id": "UbOPPKAzDhKv"
      },
      "source": [
        "## 1. Business Understanding"
      ]
    },
    {
      "cell_type": "markdown",
      "metadata": {
        "id": "jyl817AvE2k-"
      },
      "source": [
        "### 1.1 Project description"
      ]
    },
    {
      "cell_type": "markdown",
      "metadata": {
        "id": "fXt9SeC1E8Cq"
      },
      "source": [
        "### 1.2 Project objectives"
      ]
    },
    {
      "cell_type": "markdown",
      "metadata": {
        "id": "VgcvG3LzDjwa"
      },
      "source": [
        "## 2. Data Understanding"
      ]
    },
    {
      "cell_type": "markdown",
      "metadata": {
        "id": "nx-hrXNnFbIH"
      },
      "source": [
        "### 2.1. Importing the data"
      ]
    },
    {
      "cell_type": "markdown",
      "metadata": {
        "id": "rpgUZeQtFrKs"
      },
      "source": [
        "### 2.2. Data exploration"
      ]
    },
    {
      "cell_type": "markdown",
      "metadata": {
        "id": "TfLgiTjiFyGX"
      },
      "source": [
        "### 2.2.1 Columns description"
      ]
    },
    {
      "cell_type": "markdown",
      "metadata": {
        "id": "MPvrX77NDnrl"
      },
      "source": [
        "## 3. Data preparation and pre-processing"
      ]
    },
    {
      "cell_type": "markdown",
      "metadata": {
        "id": "Td_lfCsiHNDv"
      },
      "source": [
        "### 3.1. Data cleaning"
      ]
    },
    {
      "cell_type": "code",
      "execution_count": null,
      "metadata": {
        "id": "Nz0qqniMC7UJ"
      },
      "outputs": [],
      "source": []
    },
    {
      "cell_type": "markdown",
      "metadata": {
        "id": "rDRhDWNRHVcV"
      },
      "source": [
        "### 3.2. Data visualization"
      ]
    },
    {
      "cell_type": "markdown",
      "metadata": {
        "id": "cukYeoFeIFhr"
      },
      "source": [
        "### 3.3 Data reduction"
      ]
    },
    {
      "cell_type": "markdown",
      "metadata": {
        "id": "DnvEuBstIInI"
      },
      "source": [
        "### 3.4 Data transformation"
      ]
    },
    {
      "cell_type": "markdown",
      "metadata": {
        "id": "PhT9dYaIDxCE"
      },
      "source": [
        "### 3.4. Feature selection"
      ]
    },
    {
      "cell_type": "code",
      "execution_count": null,
      "metadata": {
        "id": "h3JHzTfED4Ch"
      },
      "outputs": [],
      "source": []
    },
    {
      "cell_type": "markdown",
      "metadata": {
        "id": "o61jAHcsD4QY"
      },
      "source": [
        "## 4. Modeling"
      ]
    },
    {
      "cell_type": "code",
      "execution_count": null,
      "metadata": {
        "id": "VuLQVYNFD62V"
      },
      "outputs": [],
      "source": []
    },
    {
      "cell_type": "markdown",
      "metadata": {
        "id": "ARQ0Ih2mD7bc"
      },
      "source": [
        "## 5. Evaluation"
      ]
    },
    {
      "cell_type": "code",
      "execution_count": null,
      "metadata": {
        "id": "t5_tF4CpD9_W"
      },
      "outputs": [],
      "source": []
    },
    {
      "cell_type": "markdown",
      "metadata": {
        "id": "6nJnI7D-D-OB"
      },
      "source": [
        "## 6. Insights, Conclusions and Business recommendations"
      ]
    },
    {
      "cell_type": "code",
      "execution_count": null,
      "metadata": {
        "id": "gXjTvQGGECxn"
      },
      "outputs": [],
      "source": []
    },
    {
      "cell_type": "markdown",
      "metadata": {
        "id": "LhiMGJNaEaiK"
      },
      "source": [
        "## 7. Deployment"
      ]
    },
    {
      "cell_type": "code",
      "execution_count": null,
      "metadata": {
        "id": "vTIwArztEeAY"
      },
      "outputs": [],
      "source": []
    }
  ],
  "metadata": {
    "colab": {
      "provenance": []
    },
    "kernelspec": {
      "display_name": "Python 3",
      "name": "python3"
    },
    "language_info": {
      "name": "python"
    }
  },
  "nbformat": 4,
  "nbformat_minor": 0
}
